{
 "cells": [
  {
   "cell_type": "markdown",
   "id": "8448b561-f01f-444d-b2ac-fd82b3899c0d",
   "metadata": {},
   "source": [
    "## MVP version 1.0"
   ]
  },
  {
   "cell_type": "code",
   "execution_count": null,
   "id": "457c5197-2bfb-4859-bb50-7853be64b716",
   "metadata": {},
   "outputs": [],
   "source": [
    "import pandas as pd\n",
    "from dash import Dash, html, dcc\n",
    "import plotly.express as px\n",
    "from jupyter_dash import JupyterDash"
   ]
  },
  {
   "cell_type": "code",
   "execution_count": null,
   "id": "149c5e8e-03f4-43b6-9277-78adefde54a4",
   "metadata": {},
   "outputs": [],
   "source": [
    "data = pd.read_csv('/Users/rafaelcyin/Documents/GitHub/Bestfer_Solution_JN/data/data.csv')"
   ]
  },
  {
   "cell_type": "code",
   "execution_count": null,
   "id": "df26ddba-0226-40e2-9bf2-fac516768a49",
   "metadata": {},
   "outputs": [],
   "source": [
    "data = data.dropna()"
   ]
  },
  {
   "cell_type": "code",
   "execution_count": null,
   "id": "40f012f7-1686-4468-85ae-c56a3aa33e7a",
   "metadata": {},
   "outputs": [],
   "source": [
    "data = data[data['Ativo'].str.contains('N') == False]"
   ]
  },
  {
   "cell_type": "code",
   "execution_count": null,
   "id": "eadbe3e6-01b8-4d73-a998-9976eee6a761",
   "metadata": {},
   "outputs": [],
   "source": [
    "column_name = list(data.columns)"
   ]
  },
  {
   "cell_type": "code",
   "execution_count": null,
   "id": "a8dc6e47-9a11-4ee5-8fdb-df40d13a2904",
   "metadata": {},
   "outputs": [],
   "source": [
    "total_units = [data[column_name[5]].sum(),data[column_name[6]].sum(),data[column_name[7]].sum(),data[column_name[8]].sum(),data[column_name[9]].sum(),data[column_name[10]].sum()]\n",
    "months = [column_name[5],column_name[6],column_name[7],column_name[8],column_name[9],column_name[10]]\n",
    "index = ['Total Units']\n",
    "units_data = {'Total Units Sold' : total_units, 'Months' : months}"
   ]
  },
  {
   "cell_type": "code",
   "execution_count": null,
   "id": "3f1c69d6-a007-4532-856c-96347ebbd891",
   "metadata": {},
   "outputs": [],
   "source": [
    "units_df = pd.DataFrame(units_data)\n",
    "units_df"
   ]
  },
  {
   "cell_type": "markdown",
   "id": "3d19ecc4-c00a-489b-aaef-a31eb3530224",
   "metadata": {},
   "source": [
    "**Create Fig 1**"
   ]
  },
  {
   "cell_type": "code",
   "execution_count": null,
   "id": "709fcbce-4d03-4fe6-b070-fd058201ab62",
   "metadata": {},
   "outputs": [],
   "source": [
    "fig1 = px.bar(units_df, x = 'Months', y = 'Total Units Sold', title='Total Units Sold x 6 Months')\n",
    "fig1"
   ]
  },
  {
   "cell_type": "code",
   "execution_count": null,
   "id": "f3c21987-1df9-4595-b574-4c7b8dbe34aa",
   "metadata": {},
   "outputs": [],
   "source": [
    "avg_price = data['Venda'].mean()"
   ]
  },
  {
   "cell_type": "code",
   "execution_count": null,
   "id": "7015324b-77dc-46e0-9e24-4d310104534b",
   "metadata": {},
   "outputs": [],
   "source": [
    "sales_df = units_df"
   ]
  },
  {
   "cell_type": "code",
   "execution_count": null,
   "id": "c3481620-67bf-4dc5-8b8d-cc9d81914c00",
   "metadata": {},
   "outputs": [],
   "source": [
    "sales_df[\"Total Units Sold\"] = avg_price * sales_df[\"Total Units Sold\"]"
   ]
  },
  {
   "cell_type": "code",
   "execution_count": null,
   "id": "cf19c9bf-2415-4535-acef-e5e4432470db",
   "metadata": {},
   "outputs": [],
   "source": [
    "sales_df = sales_df.rename(columns = {'Total Units Sold' : 'Total Sales'})"
   ]
  },
  {
   "cell_type": "markdown",
   "id": "dec32561-7724-403b-926c-0f9725fd363a",
   "metadata": {},
   "source": [
    "## Create Dashboard"
   ]
  },
  {
   "cell_type": "code",
   "execution_count": null,
   "id": "65bc0c0c-a4bc-42ff-8014-d8fb19ebc0e9",
   "metadata": {},
   "outputs": [],
   "source": [
    "app = Dash(__name__)"
   ]
  },
  {
   "cell_type": "markdown",
   "id": "596f68b6-22a8-42d5-ba2a-76b4abc1d52f",
   "metadata": {},
   "source": [
    "**App Layout**"
   ]
  },
  {
   "cell_type": "code",
   "execution_count": null,
   "id": "103e7cde-19b2-43bd-bb3b-97d725fb83a6",
   "metadata": {},
   "outputs": [],
   "source": [
    "app.layout = html.Div(children=[html.H1(children='Bestfer Dashboard'),\n",
    "                                        dcc.Graph(\n",
    "                                            id='figure1',\n",
    "                                            figure=fig1\n",
    "                                        )\n",
    "                                        ])"
   ]
  },
  {
   "cell_type": "code",
   "execution_count": null,
   "id": "574ffd63-6814-4e43-aadd-2afc9c64846c",
   "metadata": {},
   "outputs": [],
   "source": [
    "app.run_server(mode='inline')"
   ]
  },
  {
   "cell_type": "code",
   "execution_count": null,
   "id": "6a0a27df-4fe2-459f-813c-bf3a3acace7c",
   "metadata": {},
   "outputs": [],
   "source": []
  }
 ],
 "metadata": {
  "kernelspec": {
   "display_name": "Python 3 (ipykernel)",
   "language": "python",
   "name": "python3"
  },
  "language_info": {
   "codemirror_mode": {
    "name": "ipython",
    "version": 3
   },
   "file_extension": ".py",
   "mimetype": "text/x-python",
   "name": "python",
   "nbconvert_exporter": "python",
   "pygments_lexer": "ipython3",
   "version": "3.10.4"
  }
 },
 "nbformat": 4,
 "nbformat_minor": 5
}
