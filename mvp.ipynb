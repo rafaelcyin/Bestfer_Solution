{
 "cells": [
  {
   "cell_type": "markdown",
   "id": "59ca9187-8f20-462d-bc70-512b89607983",
   "metadata": {
    "tags": []
   },
   "source": [
    "## Bestfer Solution MVP"
   ]
  },
  {
   "cell_type": "markdown",
   "id": "6454e59d-dfd4-4446-97ab-fdb1b2d4e55e",
   "metadata": {},
   "source": [
    "**Features**\n",
    "1. feature 1\n",
    "2. feature 2\n",
    "3. feature 3"
   ]
  },
  {
   "cell_type": "markdown",
   "id": "ae89a796-917b-47b4-9d02-91777cb675e5",
   "metadata": {},
   "source": [
    "## Importing Libraries"
   ]
  },
  {
   "cell_type": "code",
   "execution_count": 2,
   "id": "55522f95-093d-4d05-8284-3d919015be7e",
   "metadata": {},
   "outputs": [],
   "source": [
    "import pandas as pd"
   ]
  },
  {
   "cell_type": "markdown",
   "id": "924f4c90-a40a-4870-a583-95ec6bcaf03a",
   "metadata": {},
   "source": [
    "## The data at a glance"
   ]
  },
  {
   "cell_type": "markdown",
   "id": "7c199544-e69b-4ccf-8422-b7d8aa687d12",
   "metadata": {},
   "source": [
    "**Sheet = BFH-LEDE**"
   ]
  },
  {
   "cell_type": "code",
   "execution_count": 7,
   "id": "637b3324-bc6e-4f16-b43d-00020bd40673",
   "metadata": {},
   "outputs": [],
   "source": [
    "data = pd.read_csv('./data/data.csv')"
   ]
  },
  {
   "cell_type": "code",
   "execution_count": null,
   "id": "0e83512c-c269-48d5-a127-f6b6efd48ead",
   "metadata": {},
   "outputs": [],
   "source": [
    "data"
   ]
  }
 ],
 "metadata": {
  "kernelspec": {
   "display_name": "Python 3 (ipykernel)",
   "language": "python",
   "name": "python3"
  },
  "language_info": {
   "codemirror_mode": {
    "name": "ipython",
    "version": 3
   },
   "file_extension": ".py",
   "mimetype": "text/x-python",
   "name": "python",
   "nbconvert_exporter": "python",
   "pygments_lexer": "ipython3",
   "version": "3.10.4"
  }
 },
 "nbformat": 4,
 "nbformat_minor": 5
}
