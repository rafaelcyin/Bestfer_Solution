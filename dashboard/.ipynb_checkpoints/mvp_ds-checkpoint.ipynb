{
 "cells": [
  {
   "cell_type": "markdown",
   "id": "59ca9187-8f20-462d-bc70-512b89607983",
   "metadata": {
    "tags": []
   },
   "source": [
    "## Bestfer Solution MVP"
   ]
  },
  {
   "cell_type": "markdown",
   "id": "6454e59d-dfd4-4446-97ab-fdb1b2d4e55e",
   "metadata": {},
   "source": [
    "**Features**\n",
    "1. Total Units Sold x Months Graph\n",
    "2. Total Sales x Months Graph"
   ]
  },
  {
   "cell_type": "markdown",
   "id": "ae89a796-917b-47b4-9d02-91777cb675e5",
   "metadata": {},
   "source": [
    "## Importing Libraries"
   ]
  },
  {
   "cell_type": "code",
   "execution_count": 2,
   "id": "55522f95-093d-4d05-8284-3d919015be7e",
   "metadata": {},
   "outputs": [],
   "source": [
    "import pandas as pd\n",
    "import matplotlib.pyplot as plt"
   ]
  },
  {
   "cell_type": "markdown",
   "id": "924f4c90-a40a-4870-a583-95ec6bcaf03a",
   "metadata": {},
   "source": [
    "## The data at a glance"
   ]
  },
  {
   "cell_type": "markdown",
   "id": "7c199544-e69b-4ccf-8422-b7d8aa687d12",
   "metadata": {},
   "source": [
    "**Read .csv file from folder (BFH-LEDE)**"
   ]
  },
  {
   "cell_type": "code",
   "execution_count": 3,
   "id": "637b3324-bc6e-4f16-b43d-00020bd40673",
   "metadata": {},
   "outputs": [],
   "source": [
    "data = pd.read_csv('/Users/rafaelcyin/Documents/GitHub/Bestfer_Solution_JN/data/data.csv')"
   ]
  },
  {
   "cell_type": "markdown",
   "id": "03f2338c-78d4-446e-9859-6aa0d422d01e",
   "metadata": {},
   "source": [
    "**Display .csv file as table**"
   ]
  },
  {
   "cell_type": "code",
   "execution_count": 4,
   "id": "0e83512c-c269-48d5-a127-f6b6efd48ead",
   "metadata": {},
   "outputs": [
    {
     "data": {
      "text/html": [
       "<div>\n",
       "<style scoped>\n",
       "    .dataframe tbody tr th:only-of-type {\n",
       "        vertical-align: middle;\n",
       "    }\n",
       "\n",
       "    .dataframe tbody tr th {\n",
       "        vertical-align: top;\n",
       "    }\n",
       "\n",
       "    .dataframe thead th {\n",
       "        text-align: right;\n",
       "    }\n",
       "</style>\n",
       "<table border=\"1\" class=\"dataframe\">\n",
       "  <thead>\n",
       "    <tr style=\"text-align: right;\">\n",
       "      <th></th>\n",
       "      <th>Unnamed: 0</th>\n",
       "      <th>Codigo</th>\n",
       "      <th>Descrição       -       31/07/2022</th>\n",
       "      <th>UM</th>\n",
       "      <th>Import?</th>\n",
       "      <th>Feb-22</th>\n",
       "      <th>Mar-22</th>\n",
       "      <th>Apr-22</th>\n",
       "      <th>May-22</th>\n",
       "      <th>Jun-22</th>\n",
       "      <th>Jul-22</th>\n",
       "      <th>Total</th>\n",
       "      <th>Saldo</th>\n",
       "      <th>Freq.</th>\n",
       "      <th>Media</th>\n",
       "      <th>Tempo</th>\n",
       "      <th>FOB</th>\n",
       "      <th>Venda</th>\n",
       "      <th>Ativo</th>\n",
       "      <th>Entrada Prevista</th>\n",
       "    </tr>\n",
       "  </thead>\n",
       "  <tbody>\n",
       "    <tr>\n",
       "      <th>0</th>\n",
       "      <td>1.0</td>\n",
       "      <td>'BFH0003</td>\n",
       "      <td>BF PISTOLA DE COLA 6W</td>\n",
       "      <td>PC</td>\n",
       "      <td>Sim</td>\n",
       "      <td>1781.0</td>\n",
       "      <td>2608.0</td>\n",
       "      <td>2069</td>\n",
       "      <td>2226</td>\n",
       "      <td>1362</td>\n",
       "      <td>1889</td>\n",
       "      <td>11935.0</td>\n",
       "      <td>30150.0</td>\n",
       "      <td>6.0</td>\n",
       "      <td>1989.1670</td>\n",
       "      <td>15.15710</td>\n",
       "      <td>0.01</td>\n",
       "      <td>15.30</td>\n",
       "      <td>S</td>\n",
       "      <td>0.0</td>\n",
       "    </tr>\n",
       "    <tr>\n",
       "      <th>1</th>\n",
       "      <td>2.0</td>\n",
       "      <td>'BFH0014</td>\n",
       "      <td>BF JG CHAVE HEX GRANDE C/PONTA BOLA 9PCS ACZ</td>\n",
       "      <td>PC</td>\n",
       "      <td>Sim</td>\n",
       "      <td>121.0</td>\n",
       "      <td>217.0</td>\n",
       "      <td>177</td>\n",
       "      <td>100</td>\n",
       "      <td>115</td>\n",
       "      <td>49</td>\n",
       "      <td>779.0</td>\n",
       "      <td>1641.0</td>\n",
       "      <td>6.0</td>\n",
       "      <td>129.8333</td>\n",
       "      <td>12.63928</td>\n",
       "      <td>0.01</td>\n",
       "      <td>38.30</td>\n",
       "      <td>S</td>\n",
       "      <td>3600.0</td>\n",
       "    </tr>\n",
       "    <tr>\n",
       "      <th>2</th>\n",
       "      <td>3.0</td>\n",
       "      <td>'BFH0015</td>\n",
       "      <td>BF JG CH COM BITS 28PCS</td>\n",
       "      <td>PC</td>\n",
       "      <td>Sim</td>\n",
       "      <td>97.0</td>\n",
       "      <td>258.0</td>\n",
       "      <td>150</td>\n",
       "      <td>299</td>\n",
       "      <td>81</td>\n",
       "      <td>199</td>\n",
       "      <td>1084.0</td>\n",
       "      <td>910.0</td>\n",
       "      <td>6.0</td>\n",
       "      <td>180.6667</td>\n",
       "      <td>5.03690</td>\n",
       "      <td>0.01</td>\n",
       "      <td>30.49</td>\n",
       "      <td>S</td>\n",
       "      <td>2400.0</td>\n",
       "    </tr>\n",
       "    <tr>\n",
       "      <th>3</th>\n",
       "      <td>4.0</td>\n",
       "      <td>'BFH0016</td>\n",
       "      <td>BF JG CHAVE TORX GRANDE 9PCS AC</td>\n",
       "      <td>PC</td>\n",
       "      <td>Sim</td>\n",
       "      <td>129.0</td>\n",
       "      <td>268.0</td>\n",
       "      <td>138</td>\n",
       "      <td>226</td>\n",
       "      <td>240</td>\n",
       "      <td>153</td>\n",
       "      <td>1154.0</td>\n",
       "      <td>3996.0</td>\n",
       "      <td>6.0</td>\n",
       "      <td>192.3333</td>\n",
       "      <td>20.77643</td>\n",
       "      <td>0.01</td>\n",
       "      <td>38.30</td>\n",
       "      <td>S</td>\n",
       "      <td>0.0</td>\n",
       "    </tr>\n",
       "    <tr>\n",
       "      <th>4</th>\n",
       "      <td>5.0</td>\n",
       "      <td>'BFH0020</td>\n",
       "      <td>BF LAMINA P/ARCO DE SERRA 12PCS 24T</td>\n",
       "      <td>PC</td>\n",
       "      <td>Sim</td>\n",
       "      <td>2182.0</td>\n",
       "      <td>3569.0</td>\n",
       "      <td>4371</td>\n",
       "      <td>2663</td>\n",
       "      <td>2037</td>\n",
       "      <td>2623</td>\n",
       "      <td>17445.0</td>\n",
       "      <td>35914.0</td>\n",
       "      <td>6.0</td>\n",
       "      <td>2907.5000</td>\n",
       "      <td>12.35219</td>\n",
       "      <td>0.01</td>\n",
       "      <td>12.60</td>\n",
       "      <td>S</td>\n",
       "      <td>20016.0</td>\n",
       "    </tr>\n",
       "  </tbody>\n",
       "</table>\n",
       "</div>"
      ],
      "text/plain": [
       "   Unnamed: 0    Codigo            Descrição       -       31/07/2022  UM  \\\n",
       "0         1.0  'BFH0003                         BF PISTOLA DE COLA 6W  PC   \n",
       "1         2.0  'BFH0014  BF JG CHAVE HEX GRANDE C/PONTA BOLA 9PCS ACZ  PC   \n",
       "2         3.0  'BFH0015                       BF JG CH COM BITS 28PCS  PC   \n",
       "3         4.0  'BFH0016               BF JG CHAVE TORX GRANDE 9PCS AC  PC   \n",
       "4         5.0  'BFH0020           BF LAMINA P/ARCO DE SERRA 12PCS 24T  PC   \n",
       "\n",
       "  Import?  Feb-22  Mar-22  Apr-22  May-22  Jun-22  Jul-22    Total    Saldo  \\\n",
       "0     Sim  1781.0  2608.0    2069    2226    1362    1889  11935.0  30150.0   \n",
       "1     Sim   121.0   217.0     177     100     115      49    779.0   1641.0   \n",
       "2     Sim    97.0   258.0     150     299      81     199   1084.0    910.0   \n",
       "3     Sim   129.0   268.0     138     226     240     153   1154.0   3996.0   \n",
       "4     Sim  2182.0  3569.0    4371    2663    2037    2623  17445.0  35914.0   \n",
       "\n",
       "   Freq.      Media     Tempo   FOB  Venda Ativo  Entrada Prevista  \n",
       "0    6.0  1989.1670  15.15710  0.01  15.30     S               0.0  \n",
       "1    6.0   129.8333  12.63928  0.01  38.30     S            3600.0  \n",
       "2    6.0   180.6667   5.03690  0.01  30.49     S            2400.0  \n",
       "3    6.0   192.3333  20.77643  0.01  38.30     S               0.0  \n",
       "4    6.0  2907.5000  12.35219  0.01  12.60     S           20016.0  "
      ]
     },
     "execution_count": 4,
     "metadata": {},
     "output_type": "execute_result"
    }
   ],
   "source": [
    "data.head()"
   ]
  },
  {
   "cell_type": "code",
   "execution_count": 5,
   "id": "6378aaab-510c-4627-8ba7-a8d9a596d3ae",
   "metadata": {},
   "outputs": [
    {
     "data": {
      "text/html": [
       "<div>\n",
       "<style scoped>\n",
       "    .dataframe tbody tr th:only-of-type {\n",
       "        vertical-align: middle;\n",
       "    }\n",
       "\n",
       "    .dataframe tbody tr th {\n",
       "        vertical-align: top;\n",
       "    }\n",
       "\n",
       "    .dataframe thead th {\n",
       "        text-align: right;\n",
       "    }\n",
       "</style>\n",
       "<table border=\"1\" class=\"dataframe\">\n",
       "  <thead>\n",
       "    <tr style=\"text-align: right;\">\n",
       "      <th></th>\n",
       "      <th>Unnamed: 0</th>\n",
       "      <th>Feb-22</th>\n",
       "      <th>Mar-22</th>\n",
       "      <th>Apr-22</th>\n",
       "      <th>May-22</th>\n",
       "      <th>Jun-22</th>\n",
       "      <th>Jul-22</th>\n",
       "      <th>Total</th>\n",
       "      <th>Saldo</th>\n",
       "      <th>Freq.</th>\n",
       "      <th>Media</th>\n",
       "      <th>Tempo</th>\n",
       "      <th>FOB</th>\n",
       "      <th>Venda</th>\n",
       "      <th>Entrada Prevista</th>\n",
       "    </tr>\n",
       "  </thead>\n",
       "  <tbody>\n",
       "    <tr>\n",
       "      <th>count</th>\n",
       "      <td>1692.000000</td>\n",
       "      <td>1693.000000</td>\n",
       "      <td>1693.000000</td>\n",
       "      <td>1693.000000</td>\n",
       "      <td>1693.000000</td>\n",
       "      <td>1693.000000</td>\n",
       "      <td>1693.000000</td>\n",
       "      <td>1693.00000</td>\n",
       "      <td>1692.000000</td>\n",
       "      <td>1692.000000</td>\n",
       "      <td>1692.000000</td>\n",
       "      <td>1692.000000</td>\n",
       "      <td>1692.000000</td>\n",
       "      <td>1692.000000</td>\n",
       "      <td>1692.000000</td>\n",
       "    </tr>\n",
       "    <tr>\n",
       "      <th>mean</th>\n",
       "      <td>846.500000</td>\n",
       "      <td>925.291081</td>\n",
       "      <td>1320.194826</td>\n",
       "      <td>1232.954519</td>\n",
       "      <td>1092.533963</td>\n",
       "      <td>991.559362</td>\n",
       "      <td>1097.486119</td>\n",
       "      <td>6660.01987</td>\n",
       "      <td>11951.486407</td>\n",
       "      <td>5.495272</td>\n",
       "      <td>566.880194</td>\n",
       "      <td>59.243418</td>\n",
       "      <td>0.014711</td>\n",
       "      <td>26.445520</td>\n",
       "      <td>2910.747636</td>\n",
       "    </tr>\n",
       "    <tr>\n",
       "      <th>std</th>\n",
       "      <td>488.582644</td>\n",
       "      <td>19066.672724</td>\n",
       "      <td>27190.300530</td>\n",
       "      <td>25407.670243</td>\n",
       "      <td>22549.255084</td>\n",
       "      <td>20489.706057</td>\n",
       "      <td>22620.532306</td>\n",
       "      <td>137247.30818</td>\n",
       "      <td>24658.306057</td>\n",
       "      <td>1.382702</td>\n",
       "      <td>1566.443482</td>\n",
       "      <td>90.708251</td>\n",
       "      <td>0.047818</td>\n",
       "      <td>40.393856</td>\n",
       "      <td>12093.642252</td>\n",
       "    </tr>\n",
       "    <tr>\n",
       "      <th>min</th>\n",
       "      <td>1.000000</td>\n",
       "      <td>0.000000</td>\n",
       "      <td>0.000000</td>\n",
       "      <td>0.000000</td>\n",
       "      <td>0.000000</td>\n",
       "      <td>0.000000</td>\n",
       "      <td>0.000000</td>\n",
       "      <td>0.00000</td>\n",
       "      <td>0.000000</td>\n",
       "      <td>0.000000</td>\n",
       "      <td>0.000000</td>\n",
       "      <td>-0.002830</td>\n",
       "      <td>0.010000</td>\n",
       "      <td>0.010000</td>\n",
       "      <td>0.000000</td>\n",
       "    </tr>\n",
       "    <tr>\n",
       "      <th>25%</th>\n",
       "      <td>423.750000</td>\n",
       "      <td>27.000000</td>\n",
       "      <td>40.000000</td>\n",
       "      <td>31.000000</td>\n",
       "      <td>28.000000</td>\n",
       "      <td>28.000000</td>\n",
       "      <td>40.000000</td>\n",
       "      <td>288.00000</td>\n",
       "      <td>2689.250000</td>\n",
       "      <td>6.000000</td>\n",
       "      <td>50.400000</td>\n",
       "      <td>14.060998</td>\n",
       "      <td>0.010000</td>\n",
       "      <td>7.500000</td>\n",
       "      <td>0.000000</td>\n",
       "    </tr>\n",
       "  </tbody>\n",
       "</table>\n",
       "</div>"
      ],
      "text/plain": [
       "        Unnamed: 0        Feb-22        Mar-22        Apr-22        May-22  \\\n",
       "count  1692.000000   1693.000000   1693.000000   1693.000000   1693.000000   \n",
       "mean    846.500000    925.291081   1320.194826   1232.954519   1092.533963   \n",
       "std     488.582644  19066.672724  27190.300530  25407.670243  22549.255084   \n",
       "min       1.000000      0.000000      0.000000      0.000000      0.000000   \n",
       "25%     423.750000     27.000000     40.000000     31.000000     28.000000   \n",
       "\n",
       "             Jun-22        Jul-22         Total         Saldo        Freq.  \\\n",
       "count   1693.000000   1693.000000    1693.00000   1692.000000  1692.000000   \n",
       "mean     991.559362   1097.486119    6660.01987  11951.486407     5.495272   \n",
       "std    20489.706057  22620.532306  137247.30818  24658.306057     1.382702   \n",
       "min        0.000000      0.000000       0.00000      0.000000     0.000000   \n",
       "25%       28.000000     40.000000     288.00000   2689.250000     6.000000   \n",
       "\n",
       "             Media        Tempo          FOB        Venda  Entrada Prevista  \n",
       "count  1692.000000  1692.000000  1692.000000  1692.000000       1692.000000  \n",
       "mean    566.880194    59.243418     0.014711    26.445520       2910.747636  \n",
       "std    1566.443482    90.708251     0.047818    40.393856      12093.642252  \n",
       "min       0.000000    -0.002830     0.010000     0.010000          0.000000  \n",
       "25%      50.400000    14.060998     0.010000     7.500000          0.000000  "
      ]
     },
     "execution_count": 5,
     "metadata": {},
     "output_type": "execute_result"
    }
   ],
   "source": [
    "data.describe().head()"
   ]
  },
  {
   "cell_type": "code",
   "execution_count": 6,
   "id": "fcac4603-716e-4fc2-8ba5-bb9a3c416da8",
   "metadata": {},
   "outputs": [
    {
     "name": "stdout",
     "output_type": "stream",
     "text": [
      "<class 'pandas.core.frame.DataFrame'>\n",
      "RangeIndex: 1693 entries, 0 to 1692\n",
      "Data columns (total 20 columns):\n",
      " #   Column                              Non-Null Count  Dtype  \n",
      "---  ------                              --------------  -----  \n",
      " 0   Unnamed: 0                          1692 non-null   float64\n",
      " 1   Codigo                              1692 non-null   object \n",
      " 2   Descrição       -       31/07/2022  1692 non-null   object \n",
      " 3   UM                                  1692 non-null   object \n",
      " 4   Import?                             1692 non-null   object \n",
      " 5   Feb-22                              1693 non-null   float64\n",
      " 6   Mar-22                              1693 non-null   float64\n",
      " 7   Apr-22                              1693 non-null   int64  \n",
      " 8   May-22                              1693 non-null   int64  \n",
      " 9   Jun-22                              1693 non-null   int64  \n",
      " 10  Jul-22                              1693 non-null   int64  \n",
      " 11  Total                               1693 non-null   float64\n",
      " 12  Saldo                               1692 non-null   float64\n",
      " 13  Freq.                               1692 non-null   float64\n",
      " 14  Media                               1692 non-null   float64\n",
      " 15  Tempo                               1692 non-null   float64\n",
      " 16  FOB                                 1692 non-null   float64\n",
      " 17  Venda                               1692 non-null   float64\n",
      " 18  Ativo                               1692 non-null   object \n",
      " 19  Entrada Prevista                    1692 non-null   float64\n",
      "dtypes: float64(11), int64(4), object(5)\n",
      "memory usage: 264.7+ KB\n"
     ]
    }
   ],
   "source": [
    "data.info()"
   ]
  },
  {
   "cell_type": "code",
   "execution_count": 7,
   "id": "59216b35-df47-4d05-bedf-e732969e8ad9",
   "metadata": {},
   "outputs": [
    {
     "data": {
      "text/plain": [
       "Unnamed: 0                            1\n",
       "Codigo                                1\n",
       "Descrição       -       31/07/2022    1\n",
       "UM                                    1\n",
       "Import?                               1\n",
       "Feb-22                                0\n",
       "Mar-22                                0\n",
       "Apr-22                                0\n",
       "May-22                                0\n",
       "Jun-22                                0\n",
       "Jul-22                                0\n",
       "Total                                 0\n",
       "Saldo                                 1\n",
       "Freq.                                 1\n",
       "Media                                 1\n",
       "Tempo                                 1\n",
       "FOB                                   1\n",
       "Venda                                 1\n",
       "Ativo                                 1\n",
       "Entrada Prevista                      1\n",
       "dtype: int64"
      ]
     },
     "execution_count": 7,
     "metadata": {},
     "output_type": "execute_result"
    }
   ],
   "source": [
    "data.isna().sum()"
   ]
  },
  {
   "cell_type": "code",
   "execution_count": 8,
   "id": "9b0bf569-a170-4ab9-b6d0-99e35f2da253",
   "metadata": {},
   "outputs": [
    {
     "data": {
      "text/plain": [
       "33860"
      ]
     },
     "execution_count": 8,
     "metadata": {},
     "output_type": "execute_result"
    }
   ],
   "source": [
    "data.size"
   ]
  },
  {
   "cell_type": "markdown",
   "id": "9bda8085-8d55-4921-b779-5b5397c89f93",
   "metadata": {},
   "source": [
    "**Dimensions of data**"
   ]
  },
  {
   "cell_type": "code",
   "execution_count": 9,
   "id": "89eed9b5-47f9-4b0a-b784-7d8dad2a9722",
   "metadata": {},
   "outputs": [
    {
     "data": {
      "text/plain": [
       "(1693, 20)"
      ]
     },
     "execution_count": 9,
     "metadata": {},
     "output_type": "execute_result"
    }
   ],
   "source": [
    "data.shape"
   ]
  },
  {
   "cell_type": "markdown",
   "id": "c9db6f58-4532-4549-a903-168c607d8100",
   "metadata": {},
   "source": [
    "## Handling Missing Data"
   ]
  },
  {
   "cell_type": "markdown",
   "id": "e4232c17-8bfb-4be0-93a4-5125da87fbef",
   "metadata": {},
   "source": [
    "**Remove `null` values from data**"
   ]
  },
  {
   "cell_type": "code",
   "execution_count": 10,
   "id": "b211ce01-8665-473d-b7eb-eb862db6979b",
   "metadata": {},
   "outputs": [],
   "source": [
    "data = data.dropna()"
   ]
  },
  {
   "cell_type": "markdown",
   "id": "cfa471b4-b426-4c80-ae55-2331d610908d",
   "metadata": {},
   "source": [
    "Remove `null` values"
   ]
  },
  {
   "cell_type": "code",
   "execution_count": 11,
   "id": "696f630a-f322-4ae1-8775-da42b0fe2625",
   "metadata": {},
   "outputs": [
    {
     "data": {
      "text/plain": [
       "Unnamed: 0                            0\n",
       "Codigo                                0\n",
       "Descrição       -       31/07/2022    0\n",
       "UM                                    0\n",
       "Import?                               0\n",
       "Feb-22                                0\n",
       "Mar-22                                0\n",
       "Apr-22                                0\n",
       "May-22                                0\n",
       "Jun-22                                0\n",
       "Jul-22                                0\n",
       "Total                                 0\n",
       "Saldo                                 0\n",
       "Freq.                                 0\n",
       "Media                                 0\n",
       "Tempo                                 0\n",
       "FOB                                   0\n",
       "Venda                                 0\n",
       "Ativo                                 0\n",
       "Entrada Prevista                      0\n",
       "dtype: int64"
      ]
     },
     "execution_count": 11,
     "metadata": {},
     "output_type": "execute_result"
    }
   ],
   "source": [
    "data.isna().sum()"
   ]
  },
  {
   "cell_type": "markdown",
   "id": "0173b46a-8c58-4389-a705-89a3ca1f64a8",
   "metadata": {},
   "source": [
    "All `null` values have been removed"
   ]
  },
  {
   "cell_type": "markdown",
   "id": "47f83ced-8a3e-46d6-9841-d728458c1c35",
   "metadata": {},
   "source": [
    "## Cleaning Data"
   ]
  },
  {
   "cell_type": "markdown",
   "id": "58f9ea99-3664-412c-a618-657aecde3e72",
   "metadata": {},
   "source": [
    "**Check if there are any `inactive` items**"
   ]
  },
  {
   "cell_type": "code",
   "execution_count": 12,
   "id": "3d8691a4-94a1-4b5c-9332-deec6b59c779",
   "metadata": {},
   "outputs": [
    {
     "data": {
      "text/plain": [
       "array(['S', 'N'], dtype=object)"
      ]
     },
     "execution_count": 12,
     "metadata": {},
     "output_type": "execute_result"
    }
   ],
   "source": [
    "data['Ativo'].unique()"
   ]
  },
  {
   "cell_type": "markdown",
   "id": "de270eec-d1a5-4f42-81be-9619917b1292",
   "metadata": {},
   "source": [
    "**Remove`inactive` items (Ativo = N)**"
   ]
  },
  {
   "cell_type": "code",
   "execution_count": 13,
   "id": "78b204c8-ef2d-44cb-b57c-dac29a7a0096",
   "metadata": {},
   "outputs": [],
   "source": [
    "data = data[data['Ativo'].str.contains('N') == False]"
   ]
  },
  {
   "cell_type": "code",
   "execution_count": 14,
   "id": "65165925-2c90-4157-b18e-7a23df5e7199",
   "metadata": {},
   "outputs": [
    {
     "data": {
      "text/plain": [
       "array(['S'], dtype=object)"
      ]
     },
     "execution_count": 14,
     "metadata": {},
     "output_type": "execute_result"
    }
   ],
   "source": [
    "data['Ativo'].unique()"
   ]
  },
  {
   "cell_type": "markdown",
   "id": "224a48f3-1619-4f3f-b70f-a170e44a3139",
   "metadata": {},
   "source": [
    "Successfully removed the `inactive` items from the data"
   ]
  },
  {
   "cell_type": "markdown",
   "id": "50535097-eacd-41e3-b0ab-be80038d4f9b",
   "metadata": {},
   "source": [
    "## Data Wrangling"
   ]
  },
  {
   "cell_type": "markdown",
   "id": "d38883ab-3c33-41f6-9c3b-a3ce93444b16",
   "metadata": {},
   "source": [
    "### Total Units Sold x Months"
   ]
  },
  {
   "cell_type": "markdown",
   "id": "d752551d-aa01-4703-98a8-4a53ae9dbc0f",
   "metadata": {},
   "source": [
    "**Store column name into a `list`**"
   ]
  },
  {
   "cell_type": "code",
   "execution_count": 15,
   "id": "178bfee0-d2f6-4af9-8078-cf064215d81a",
   "metadata": {},
   "outputs": [],
   "source": [
    "column_name = list(data.columns)"
   ]
  },
  {
   "cell_type": "markdown",
   "id": "5c857ffb-b759-42fb-8699-ef52be91dd4b",
   "metadata": {},
   "source": [
    "**Create `dictionary` to store total sum of sales and their respective months**"
   ]
  },
  {
   "cell_type": "code",
   "execution_count": 16,
   "id": "b53733e5-e2d4-4e2c-b5aa-58df73374298",
   "metadata": {},
   "outputs": [],
   "source": [
    "total_units = [data[column_name[5]].sum(),data[column_name[6]].sum(),data[column_name[7]].sum(),data[column_name[8]].sum(),data[column_name[9]].sum(),data[column_name[10]].sum()]\n",
    "months = [column_name[5],column_name[6],column_name[7],column_name[8],column_name[9],column_name[10]]\n",
    "index = ['Total Units']\n",
    "units_data = {'Total Units Sold' : total_units, 'Months' : months}"
   ]
  },
  {
   "cell_type": "markdown",
   "id": "1f0e5783-b618-43dd-90d9-03721249f4e2",
   "metadata": {},
   "source": [
    "**Create graph to plot `total_units` against `months`**"
   ]
  },
  {
   "cell_type": "code",
   "execution_count": 17,
   "id": "850b3c21-b9fa-4ff1-8009-f694b2f7da79",
   "metadata": {},
   "outputs": [
    {
     "data": {
      "text/html": [
       "<div>\n",
       "<style scoped>\n",
       "    .dataframe tbody tr th:only-of-type {\n",
       "        vertical-align: middle;\n",
       "    }\n",
       "\n",
       "    .dataframe tbody tr th {\n",
       "        vertical-align: top;\n",
       "    }\n",
       "\n",
       "    .dataframe thead th {\n",
       "        text-align: right;\n",
       "    }\n",
       "</style>\n",
       "<table border=\"1\" class=\"dataframe\">\n",
       "  <thead>\n",
       "    <tr style=\"text-align: right;\">\n",
       "      <th></th>\n",
       "      <th>Total Units Sold</th>\n",
       "      <th>Months</th>\n",
       "    </tr>\n",
       "  </thead>\n",
       "  <tbody>\n",
       "    <tr>\n",
       "      <th>0</th>\n",
       "      <td>774161.90</td>\n",
       "      <td>Feb-22</td>\n",
       "    </tr>\n",
       "    <tr>\n",
       "      <th>1</th>\n",
       "      <td>1096649.92</td>\n",
       "      <td>Mar-22</td>\n",
       "    </tr>\n",
       "    <tr>\n",
       "      <th>2</th>\n",
       "      <td>1012810.00</td>\n",
       "      <td>Apr-22</td>\n",
       "    </tr>\n",
       "    <tr>\n",
       "      <th>3</th>\n",
       "      <td>915310.00</td>\n",
       "      <td>May-22</td>\n",
       "    </tr>\n",
       "    <tr>\n",
       "      <th>4</th>\n",
       "      <td>827942.00</td>\n",
       "      <td>Jun-22</td>\n",
       "    </tr>\n",
       "  </tbody>\n",
       "</table>\n",
       "</div>"
      ],
      "text/plain": [
       "   Total Units Sold  Months\n",
       "0         774161.90  Feb-22\n",
       "1        1096649.92  Mar-22\n",
       "2        1012810.00  Apr-22\n",
       "3         915310.00  May-22\n",
       "4         827942.00  Jun-22"
      ]
     },
     "execution_count": 17,
     "metadata": {},
     "output_type": "execute_result"
    }
   ],
   "source": [
    "units_df = pd.DataFrame(units_data)\n",
    "units_df.head()"
   ]
  },
  {
   "cell_type": "code",
   "execution_count": 18,
   "id": "bbd598d5-3a4b-4079-a718-d262e296b822",
   "metadata": {},
   "outputs": [
    {
     "data": {
      "text/plain": [
       "<AxesSubplot:xlabel='Months'>"
      ]
     },
     "execution_count": 18,
     "metadata": {},
     "output_type": "execute_result"
    },
    {
     "data": {
      "image/png": "[encoded data removed]",
      "text/plain": [
       "<Figure size 432x288 with 1 Axes>"
      ]
     },
     "metadata": {
      "needs_background": "light"
     },
     "output_type": "display_data"
    }
   ],
   "source": [
    "units_df.plot(x = 'Months', y = 'Total Units Sold', kind='bar')"
   ]
  },
  {
   "cell_type": "markdown",
   "id": "0e38001d-cad4-4bc1-b804-e4ac662e02a1",
   "metadata": {},
   "source": [
    "### Total Sales x Months"
   ]
  },
  {
   "cell_type": "markdown",
   "id": "690c631e-f3b3-485d-9e4d-f9d042334afa",
   "metadata": {},
   "source": [
    "**Calculate `mean` price of all proudcts**"
   ]
  },
  {
   "cell_type": "code",
   "execution_count": 19,
   "id": "da7dde89-7480-4a0a-90d3-a81e011df87c",
   "metadata": {},
   "outputs": [
    {
     "data": {
      "text/plain": [
       "26.49056"
      ]
     },
     "execution_count": 19,
     "metadata": {},
     "output_type": "execute_result"
    }
   ],
   "source": [
    "avg_price = data['Venda'].mean()\n",
    "avg_price"
   ]
  },
  {
   "cell_type": "markdown",
   "id": "996fd9ff-d9e7-499e-ad31-060facd07b44",
   "metadata": {},
   "source": [
    "**Calculate Value**"
   ]
  },
  {
   "cell_type": "code",
   "execution_count": 31,
   "id": "78475d1e-651e-497d-a998-413ca4e4cf89",
   "metadata": {},
   "outputs": [
    {
     "data": {
      "text/plain": [
       "{'Total Sales': ([8240201.17],\n",
       "  [11342888.768],\n",
       "  [10084616.85],\n",
       "  [9252150.870000001],\n",
       "  [8061738.369999999],\n",
       "  [9432526.61]),\n",
       " 'Months': ['Feb-22', 'Mar-22', 'Apr-22', 'May-22', 'Jun-22', 'Jul-22']}"
      ]
     },
     "execution_count": 31,
     "metadata": {},
     "output_type": "execute_result"
    }
   ],
   "source": [
    "total_sales = [(data['Feb-22']*data['Venda']).sum()],[(data['Mar-22']*data['Venda']).sum()],[(data['Apr-22']*data['Venda']).sum()],[(data['May-22']*data['Venda']).sum()],[(data['Jun-22']*data['Venda']).sum()],[(data['Jul-22']*data['Venda']).sum()]\n",
    "sales_df = {'Total Sales' : total_sales, 'Months' : months}\n",
    "sales_df"
   ]
  },
  {
   "cell_type": "markdown",
   "id": "fcb65151-a119-4c95-90c0-6b0587c1e1d8",
   "metadata": {},
   "source": [
    "**Create graph to plot `total_sales` against `months`**"
   ]
  },
  {
   "cell_type": "code",
   "execution_count": 36,
   "id": "3d811b13-e17d-40ff-920b-8a00c4179dc4",
   "metadata": {},
   "outputs": [
    {
     "data": {
      "text/html": [
       "<div>\n",
       "<style scoped>\n",
       "    .dataframe tbody tr th:only-of-type {\n",
       "        vertical-align: middle;\n",
       "    }\n",
       "\n",
       "    .dataframe tbody tr th {\n",
       "        vertical-align: top;\n",
       "    }\n",
       "\n",
       "    .dataframe thead th {\n",
       "        text-align: right;\n",
       "    }\n",
       "</style>\n",
       "<table border=\"1\" class=\"dataframe\">\n",
       "  <thead>\n",
       "    <tr style=\"text-align: right;\">\n",
       "      <th></th>\n",
       "      <th>Total Units Sold</th>\n",
       "      <th>Months</th>\n",
       "    </tr>\n",
       "  </thead>\n",
       "  <tbody>\n",
       "    <tr>\n",
       "      <th>0</th>\n",
       "      <td>2.050798e+07</td>\n",
       "      <td>Feb-22</td>\n",
       "    </tr>\n",
       "    <tr>\n",
       "      <th>1</th>\n",
       "      <td>2.905087e+07</td>\n",
       "      <td>Mar-22</td>\n",
       "    </tr>\n",
       "    <tr>\n",
       "      <th>2</th>\n",
       "      <td>2.682990e+07</td>\n",
       "      <td>Apr-22</td>\n",
       "    </tr>\n",
       "    <tr>\n",
       "      <th>3</th>\n",
       "      <td>2.424707e+07</td>\n",
       "      <td>May-22</td>\n",
       "    </tr>\n",
       "    <tr>\n",
       "      <th>4</th>\n",
       "      <td>2.193265e+07</td>\n",
       "      <td>Jun-22</td>\n",
       "    </tr>\n",
       "  </tbody>\n",
       "</table>\n",
       "</div>"
      ],
      "text/plain": [
       "   Total Units Sold  Months\n",
       "0      2.050798e+07  Feb-22\n",
       "1      2.905087e+07  Mar-22\n",
       "2      2.682990e+07  Apr-22\n",
       "3      2.424707e+07  May-22\n",
       "4      2.193265e+07  Jun-22"
      ]
     },
     "execution_count": 36,
     "metadata": {},
     "output_type": "execute_result"
    }
   ],
   "source": [
    "sales_df.head()"
   ]
  },
  {
   "cell_type": "code",
   "execution_count": 37,
   "id": "79b2a24f-3ef2-4192-a856-1fc4c80c2715",
   "metadata": {},
   "outputs": [],
   "source": [
    "sales_df = sales_df.rename(columns = {'Total Units Sold' : 'Total Sales'})"
   ]
  },
  {
   "cell_type": "code",
   "execution_count": 38,
   "id": "c13b4549-5885-4578-a1ee-be3635f5f983",
   "metadata": {},
   "outputs": [
    {
     "data": {
      "text/plain": [
       "<AxesSubplot:xlabel='Months'>"
      ]
     },
     "execution_count": 38,
     "metadata": {},
     "output_type": "execute_result"
    },
    {
     "data": {
      "image/png": "[encoded data removed]",
      "text/plain": [
       "<Figure size 432x288 with 1 Axes>"
      ]
     },
     "metadata": {
      "needs_background": "light"
     },
     "output_type": "display_data"
    }
   ],
   "source": [
    "sales_df.plot(x = 'Months', y = 'Total Sales', kind='bar')"
   ]
  },
  {
   "cell_type": "code",
   "execution_count": null,
   "id": "4c7f84c8-78cd-40ee-aa98-0dcaeb8daf0f",
   "metadata": {},
   "outputs": [],
   "source": []
  }
 ],
 "metadata": {
  "kernelspec": {
   "display_name": "Python 3 (ipykernel)",
   "language": "python",
   "name": "python3"
  },
  "language_info": {
   "codemirror_mode": {
    "name": "ipython",
    "version": 3
   },
   "file_extension": ".py",
   "mimetype": "text/x-python",
   "name": "python",
   "nbconvert_exporter": "python",
   "pygments_lexer": "ipython3",
   "version": "3.10.4"
  },
  "vscode": {
   "interpreter": {
    "hash": "aee8b7b246df8f9039afb4144a1f6fd8d2ca17a180786b69acc140d282b71a49"
   }
  }
 },
 "nbformat": 4,
 "nbformat_minor": 5
}
