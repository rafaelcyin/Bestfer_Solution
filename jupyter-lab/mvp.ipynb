{
 "cells": [
  {
   "cell_type": "markdown",
   "id": "59ca9187-8f20-462d-bc70-512b89607983",
   "metadata": {
    "tags": []
   },
   "source": [
    "## Bestfer Solution MVP"
   ]
  },
  {
   "cell_type": "markdown",
   "id": "6454e59d-dfd4-4446-97ab-fdb1b2d4e55e",
   "metadata": {},
   "source": [
    "**Features**\n",
    "1. feature 1\n",
    "2. feature 2\n",
    "3. feature 3"
   ]
  },
  {
   "cell_type": "markdown",
   "id": "ae89a796-917b-47b4-9d02-91777cb675e5",
   "metadata": {},
   "source": [
    "## Importing Libraries"
   ]
  },
  {
   "cell_type": "code",
   "execution_count": 11,
   "id": "55522f95-093d-4d05-8284-3d919015be7e",
   "metadata": {},
   "outputs": [],
   "source": [
    "import pandas as pd"
   ]
  },
  {
   "cell_type": "markdown",
   "id": "924f4c90-a40a-4870-a583-95ec6bcaf03a",
   "metadata": {},
   "source": [
    "## The data at a glance"
   ]
  },
  {
   "cell_type": "markdown",
   "id": "7c199544-e69b-4ccf-8422-b7d8aa687d12",
   "metadata": {},
   "source": [
    "**Read .csv file from folder (BFH-LEDE)**"
   ]
  },
  {
   "cell_type": "code",
   "execution_count": 12,
   "id": "637b3324-bc6e-4f16-b43d-00020bd40673",
   "metadata": {},
   "outputs": [],
   "source": [
    "data = pd.read_csv('./data/data.csv')"
   ]
  },
  {
   "cell_type": "markdown",
   "id": "03f2338c-78d4-446e-9859-6aa0d422d01e",
   "metadata": {},
   "source": [
    "**Display .csv file as table**"
   ]
  },
  {
   "cell_type": "code",
   "execution_count": 13,
   "id": "0e83512c-c269-48d5-a127-f6b6efd48ead",
   "metadata": {},
   "outputs": [
    {
     "data": {
      "text/html": [
       "<div>\n",
       "<style scoped>\n",
       "    .dataframe tbody tr th:only-of-type {\n",
       "        vertical-align: middle;\n",
       "    }\n",
       "\n",
       "    .dataframe tbody tr th {\n",
       "        vertical-align: top;\n",
       "    }\n",
       "\n",
       "    .dataframe thead th {\n",
       "        text-align: right;\n",
       "    }\n",
       "</style>\n",
       "<table border=\"1\" class=\"dataframe\">\n",
       "  <thead>\n",
       "    <tr style=\"text-align: right;\">\n",
       "      <th></th>\n",
       "      <th>Unnamed: 0</th>\n",
       "      <th>Codigo</th>\n",
       "      <th>Descrição       -       31/07/2022</th>\n",
       "      <th>UM</th>\n",
       "      <th>Import?</th>\n",
       "      <th>Feb-22</th>\n",
       "      <th>Mar-22</th>\n",
       "      <th>Apr-22</th>\n",
       "      <th>May-22</th>\n",
       "      <th>Jun-22</th>\n",
       "      <th>Jul-22</th>\n",
       "      <th>Total</th>\n",
       "      <th>Saldo</th>\n",
       "      <th>Freq.</th>\n",
       "      <th>Media</th>\n",
       "      <th>Tempo</th>\n",
       "      <th>FOB</th>\n",
       "      <th>Venda</th>\n",
       "      <th>Ativo</th>\n",
       "      <th>Entrada Prevista</th>\n",
       "    </tr>\n",
       "  </thead>\n",
       "  <tbody>\n",
       "    <tr>\n",
       "      <th>0</th>\n",
       "      <td>1.0</td>\n",
       "      <td>'BFH0003</td>\n",
       "      <td>BF PISTOLA DE COLA 6W</td>\n",
       "      <td>PC</td>\n",
       "      <td>Sim</td>\n",
       "      <td>1781.0</td>\n",
       "      <td>2608.0</td>\n",
       "      <td>2069</td>\n",
       "      <td>2226</td>\n",
       "      <td>1362</td>\n",
       "      <td>1889</td>\n",
       "      <td>11935.0</td>\n",
       "      <td>30150.0</td>\n",
       "      <td>6.0</td>\n",
       "      <td>1989.1670</td>\n",
       "      <td>15.15710</td>\n",
       "      <td>0.01</td>\n",
       "      <td>15.30</td>\n",
       "      <td>S</td>\n",
       "      <td>0.0</td>\n",
       "    </tr>\n",
       "    <tr>\n",
       "      <th>1</th>\n",
       "      <td>2.0</td>\n",
       "      <td>'BFH0014</td>\n",
       "      <td>BF JG CHAVE HEX GRANDE C/PONTA BOLA 9PCS ACZ</td>\n",
       "      <td>PC</td>\n",
       "      <td>Sim</td>\n",
       "      <td>121.0</td>\n",
       "      <td>217.0</td>\n",
       "      <td>177</td>\n",
       "      <td>100</td>\n",
       "      <td>115</td>\n",
       "      <td>49</td>\n",
       "      <td>779.0</td>\n",
       "      <td>1641.0</td>\n",
       "      <td>6.0</td>\n",
       "      <td>129.8333</td>\n",
       "      <td>12.63928</td>\n",
       "      <td>0.01</td>\n",
       "      <td>38.30</td>\n",
       "      <td>S</td>\n",
       "      <td>3600.0</td>\n",
       "    </tr>\n",
       "    <tr>\n",
       "      <th>2</th>\n",
       "      <td>3.0</td>\n",
       "      <td>'BFH0015</td>\n",
       "      <td>BF JG CH COM BITS 28PCS</td>\n",
       "      <td>PC</td>\n",
       "      <td>Sim</td>\n",
       "      <td>97.0</td>\n",
       "      <td>258.0</td>\n",
       "      <td>150</td>\n",
       "      <td>299</td>\n",
       "      <td>81</td>\n",
       "      <td>199</td>\n",
       "      <td>1084.0</td>\n",
       "      <td>910.0</td>\n",
       "      <td>6.0</td>\n",
       "      <td>180.6667</td>\n",
       "      <td>5.03690</td>\n",
       "      <td>0.01</td>\n",
       "      <td>30.49</td>\n",
       "      <td>S</td>\n",
       "      <td>2400.0</td>\n",
       "    </tr>\n",
       "    <tr>\n",
       "      <th>3</th>\n",
       "      <td>4.0</td>\n",
       "      <td>'BFH0016</td>\n",
       "      <td>BF JG CHAVE TORX GRANDE 9PCS AC</td>\n",
       "      <td>PC</td>\n",
       "      <td>Sim</td>\n",
       "      <td>129.0</td>\n",
       "      <td>268.0</td>\n",
       "      <td>138</td>\n",
       "      <td>226</td>\n",
       "      <td>240</td>\n",
       "      <td>153</td>\n",
       "      <td>1154.0</td>\n",
       "      <td>3996.0</td>\n",
       "      <td>6.0</td>\n",
       "      <td>192.3333</td>\n",
       "      <td>20.77643</td>\n",
       "      <td>0.01</td>\n",
       "      <td>38.30</td>\n",
       "      <td>S</td>\n",
       "      <td>0.0</td>\n",
       "    </tr>\n",
       "    <tr>\n",
       "      <th>4</th>\n",
       "      <td>5.0</td>\n",
       "      <td>'BFH0020</td>\n",
       "      <td>BF LAMINA P/ARCO DE SERRA 12PCS 24T</td>\n",
       "      <td>PC</td>\n",
       "      <td>Sim</td>\n",
       "      <td>2182.0</td>\n",
       "      <td>3569.0</td>\n",
       "      <td>4371</td>\n",
       "      <td>2663</td>\n",
       "      <td>2037</td>\n",
       "      <td>2623</td>\n",
       "      <td>17445.0</td>\n",
       "      <td>35914.0</td>\n",
       "      <td>6.0</td>\n",
       "      <td>2907.5000</td>\n",
       "      <td>12.35219</td>\n",
       "      <td>0.01</td>\n",
       "      <td>12.60</td>\n",
       "      <td>S</td>\n",
       "      <td>20016.0</td>\n",
       "    </tr>\n",
       "  </tbody>\n",
       "</table>\n",
       "</div>"
      ],
      "text/plain": [
       "   Unnamed: 0    Codigo            Descrição       -       31/07/2022  UM  \\\n",
       "0         1.0  'BFH0003                         BF PISTOLA DE COLA 6W  PC   \n",
       "1         2.0  'BFH0014  BF JG CHAVE HEX GRANDE C/PONTA BOLA 9PCS ACZ  PC   \n",
       "2         3.0  'BFH0015                       BF JG CH COM BITS 28PCS  PC   \n",
       "3         4.0  'BFH0016               BF JG CHAVE TORX GRANDE 9PCS AC  PC   \n",
       "4         5.0  'BFH0020           BF LAMINA P/ARCO DE SERRA 12PCS 24T  PC   \n",
       "\n",
       "  Import?  Feb-22  Mar-22  Apr-22  May-22  Jun-22  Jul-22    Total    Saldo  \\\n",
       "0     Sim  1781.0  2608.0    2069    2226    1362    1889  11935.0  30150.0   \n",
       "1     Sim   121.0   217.0     177     100     115      49    779.0   1641.0   \n",
       "2     Sim    97.0   258.0     150     299      81     199   1084.0    910.0   \n",
       "3     Sim   129.0   268.0     138     226     240     153   1154.0   3996.0   \n",
       "4     Sim  2182.0  3569.0    4371    2663    2037    2623  17445.0  35914.0   \n",
       "\n",
       "   Freq.      Media     Tempo   FOB  Venda Ativo  Entrada Prevista  \n",
       "0    6.0  1989.1670  15.15710  0.01  15.30     S               0.0  \n",
       "1    6.0   129.8333  12.63928  0.01  38.30     S            3600.0  \n",
       "2    6.0   180.6667   5.03690  0.01  30.49     S            2400.0  \n",
       "3    6.0   192.3333  20.77643  0.01  38.30     S               0.0  \n",
       "4    6.0  2907.5000  12.35219  0.01  12.60     S           20016.0  "
      ]
     },
     "execution_count": 13,
     "metadata": {},
     "output_type": "execute_result"
    }
   ],
   "source": [
    "data.head()"
   ]
  },
  {
   "cell_type": "code",
   "execution_count": 24,
   "id": "6378aaab-510c-4627-8ba7-a8d9a596d3ae",
   "metadata": {},
   "outputs": [
    {
     "data": {
      "text/html": [
       "<div>\n",
       "<style scoped>\n",
       "    .dataframe tbody tr th:only-of-type {\n",
       "        vertical-align: middle;\n",
       "    }\n",
       "\n",
       "    .dataframe tbody tr th {\n",
       "        vertical-align: top;\n",
       "    }\n",
       "\n",
       "    .dataframe thead th {\n",
       "        text-align: right;\n",
       "    }\n",
       "</style>\n",
       "<table border=\"1\" class=\"dataframe\">\n",
       "  <thead>\n",
       "    <tr style=\"text-align: right;\">\n",
       "      <th></th>\n",
       "      <th>Unnamed: 0</th>\n",
       "      <th>Feb-22</th>\n",
       "      <th>Mar-22</th>\n",
       "      <th>Apr-22</th>\n",
       "      <th>May-22</th>\n",
       "      <th>Jun-22</th>\n",
       "      <th>Jul-22</th>\n",
       "      <th>Total</th>\n",
       "      <th>Saldo</th>\n",
       "      <th>Freq.</th>\n",
       "      <th>Media</th>\n",
       "      <th>Tempo</th>\n",
       "      <th>FOB</th>\n",
       "      <th>Venda</th>\n",
       "      <th>Entrada Prevista</th>\n",
       "    </tr>\n",
       "  </thead>\n",
       "  <tbody>\n",
       "    <tr>\n",
       "      <th>count</th>\n",
       "      <td>1692.000000</td>\n",
       "      <td>1692.000000</td>\n",
       "      <td>1692.000000</td>\n",
       "      <td>1692.000000</td>\n",
       "      <td>1692.000000</td>\n",
       "      <td>1692.000000</td>\n",
       "      <td>1692.000000</td>\n",
       "      <td>1692.000000</td>\n",
       "      <td>1692.000000</td>\n",
       "      <td>1692.000000</td>\n",
       "      <td>1692.000000</td>\n",
       "      <td>1692.000000</td>\n",
       "      <td>1692.000000</td>\n",
       "      <td>1692.000000</td>\n",
       "      <td>1692.000000</td>\n",
       "    </tr>\n",
       "    <tr>\n",
       "      <th>mean</th>\n",
       "      <td>846.500000</td>\n",
       "      <td>462.918972</td>\n",
       "      <td>660.487541</td>\n",
       "      <td>616.841608</td>\n",
       "      <td>546.589835</td>\n",
       "      <td>496.072695</td>\n",
       "      <td>549.067376</td>\n",
       "      <td>3331.978026</td>\n",
       "      <td>11951.486407</td>\n",
       "      <td>5.495272</td>\n",
       "      <td>566.880194</td>\n",
       "      <td>59.243418</td>\n",
       "      <td>0.014711</td>\n",
       "      <td>26.445520</td>\n",
       "      <td>2910.747636</td>\n",
       "    </tr>\n",
       "    <tr>\n",
       "      <th>std</th>\n",
       "      <td>488.582644</td>\n",
       "      <td>1263.298498</td>\n",
       "      <td>1580.228740</td>\n",
       "      <td>1702.023076</td>\n",
       "      <td>1965.728207</td>\n",
       "      <td>2046.244109</td>\n",
       "      <td>1580.505972</td>\n",
       "      <td>9243.314303</td>\n",
       "      <td>24658.306057</td>\n",
       "      <td>1.382702</td>\n",
       "      <td>1566.443482</td>\n",
       "      <td>90.708251</td>\n",
       "      <td>0.047818</td>\n",
       "      <td>40.393856</td>\n",
       "      <td>12093.642252</td>\n",
       "    </tr>\n",
       "    <tr>\n",
       "      <th>min</th>\n",
       "      <td>1.000000</td>\n",
       "      <td>0.000000</td>\n",
       "      <td>0.000000</td>\n",
       "      <td>0.000000</td>\n",
       "      <td>0.000000</td>\n",
       "      <td>0.000000</td>\n",
       "      <td>0.000000</td>\n",
       "      <td>0.000000</td>\n",
       "      <td>0.000000</td>\n",
       "      <td>0.000000</td>\n",
       "      <td>0.000000</td>\n",
       "      <td>-0.002830</td>\n",
       "      <td>0.010000</td>\n",
       "      <td>0.010000</td>\n",
       "      <td>0.000000</td>\n",
       "    </tr>\n",
       "    <tr>\n",
       "      <th>25%</th>\n",
       "      <td>423.750000</td>\n",
       "      <td>27.000000</td>\n",
       "      <td>40.000000</td>\n",
       "      <td>30.750000</td>\n",
       "      <td>28.000000</td>\n",
       "      <td>28.000000</td>\n",
       "      <td>39.750000</td>\n",
       "      <td>287.750000</td>\n",
       "      <td>2689.250000</td>\n",
       "      <td>6.000000</td>\n",
       "      <td>50.400000</td>\n",
       "      <td>14.060998</td>\n",
       "      <td>0.010000</td>\n",
       "      <td>7.500000</td>\n",
       "      <td>0.000000</td>\n",
       "    </tr>\n",
       "  </tbody>\n",
       "</table>\n",
       "</div>"
      ],
      "text/plain": [
       "        Unnamed: 0       Feb-22       Mar-22       Apr-22       May-22  \\\n",
       "count  1692.000000  1692.000000  1692.000000  1692.000000  1692.000000   \n",
       "mean    846.500000   462.918972   660.487541   616.841608   546.589835   \n",
       "std     488.582644  1263.298498  1580.228740  1702.023076  1965.728207   \n",
       "min       1.000000     0.000000     0.000000     0.000000     0.000000   \n",
       "25%     423.750000    27.000000    40.000000    30.750000    28.000000   \n",
       "\n",
       "            Jun-22       Jul-22        Total         Saldo        Freq.  \\\n",
       "count  1692.000000  1692.000000  1692.000000   1692.000000  1692.000000   \n",
       "mean    496.072695   549.067376  3331.978026  11951.486407     5.495272   \n",
       "std    2046.244109  1580.505972  9243.314303  24658.306057     1.382702   \n",
       "min       0.000000     0.000000     0.000000      0.000000     0.000000   \n",
       "25%      28.000000    39.750000   287.750000   2689.250000     6.000000   \n",
       "\n",
       "             Media        Tempo          FOB        Venda  Entrada Prevista  \n",
       "count  1692.000000  1692.000000  1692.000000  1692.000000       1692.000000  \n",
       "mean    566.880194    59.243418     0.014711    26.445520       2910.747636  \n",
       "std    1566.443482    90.708251     0.047818    40.393856      12093.642252  \n",
       "min       0.000000    -0.002830     0.010000     0.010000          0.000000  \n",
       "25%      50.400000    14.060998     0.010000     7.500000          0.000000  "
      ]
     },
     "execution_count": 24,
     "metadata": {},
     "output_type": "execute_result"
    }
   ],
   "source": [
    "data.describe().head()"
   ]
  },
  {
   "cell_type": "code",
   "execution_count": 27,
   "id": "fcac4603-716e-4fc2-8ba5-bb9a3c416da8",
   "metadata": {},
   "outputs": [
    {
     "name": "stdout",
     "output_type": "stream",
     "text": [
      "<class 'pandas.core.frame.DataFrame'>\n",
      "Int64Index: 1692 entries, 0 to 1691\n",
      "Data columns (total 20 columns):\n",
      " #   Column                              Non-Null Count  Dtype  \n",
      "---  ------                              --------------  -----  \n",
      " 0   Unnamed: 0                          1692 non-null   float64\n",
      " 1   Codigo                              1692 non-null   object \n",
      " 2   Descrição       -       31/07/2022  1692 non-null   object \n",
      " 3   UM                                  1692 non-null   object \n",
      " 4   Import?                             1692 non-null   object \n",
      " 5   Feb-22                              1692 non-null   float64\n",
      " 6   Mar-22                              1692 non-null   float64\n",
      " 7   Apr-22                              1692 non-null   int64  \n",
      " 8   May-22                              1692 non-null   int64  \n",
      " 9   Jun-22                              1692 non-null   int64  \n",
      " 10  Jul-22                              1692 non-null   int64  \n",
      " 11  Total                               1692 non-null   float64\n",
      " 12  Saldo                               1692 non-null   float64\n",
      " 13  Freq.                               1692 non-null   float64\n",
      " 14  Media                               1692 non-null   float64\n",
      " 15  Tempo                               1692 non-null   float64\n",
      " 16  FOB                                 1692 non-null   float64\n",
      " 17  Venda                               1692 non-null   float64\n",
      " 18  Ativo                               1692 non-null   object \n",
      " 19  Entrada Prevista                    1692 non-null   float64\n",
      "dtypes: float64(11), int64(4), object(5)\n",
      "memory usage: 277.6+ KB\n"
     ]
    }
   ],
   "source": [
    "data.info()"
   ]
  },
  {
   "cell_type": "code",
   "execution_count": 15,
   "id": "59216b35-df47-4d05-bedf-e732969e8ad9",
   "metadata": {},
   "outputs": [
    {
     "data": {
      "text/plain": [
       "Unnamed: 0                            1\n",
       "Codigo                                1\n",
       "Descrição       -       31/07/2022    1\n",
       "UM                                    1\n",
       "Import?                               1\n",
       "Feb-22                                0\n",
       "Mar-22                                0\n",
       "Apr-22                                0\n",
       "May-22                                0\n",
       "Jun-22                                0\n",
       "Jul-22                                0\n",
       "Total                                 0\n",
       "Saldo                                 1\n",
       "Freq.                                 1\n",
       "Media                                 1\n",
       "Tempo                                 1\n",
       "FOB                                   1\n",
       "Venda                                 1\n",
       "Ativo                                 1\n",
       "Entrada Prevista                      1\n",
       "dtype: int64"
      ]
     },
     "execution_count": 15,
     "metadata": {},
     "output_type": "execute_result"
    }
   ],
   "source": [
    "data.isna().sum()"
   ]
  },
  {
   "cell_type": "code",
   "execution_count": 17,
   "id": "9b0bf569-a170-4ab9-b6d0-99e35f2da253",
   "metadata": {},
   "outputs": [
    {
     "data": {
      "text/plain": [
       "33860"
      ]
     },
     "execution_count": 17,
     "metadata": {},
     "output_type": "execute_result"
    }
   ],
   "source": [
    "data.size"
   ]
  },
  {
   "cell_type": "markdown",
   "id": "9bda8085-8d55-4921-b779-5b5397c89f93",
   "metadata": {},
   "source": [
    "**Dimensions of data**"
   ]
  },
  {
   "cell_type": "code",
   "execution_count": 20,
   "id": "89eed9b5-47f9-4b0a-b784-7d8dad2a9722",
   "metadata": {},
   "outputs": [
    {
     "data": {
      "text/plain": [
       "(1693, 20)"
      ]
     },
     "execution_count": 20,
     "metadata": {},
     "output_type": "execute_result"
    }
   ],
   "source": [
    "data.shape"
   ]
  },
  {
   "cell_type": "markdown",
   "id": "c9db6f58-4532-4549-a903-168c607d8100",
   "metadata": {},
   "source": [
    "## Handling Missing Data"
   ]
  },
  {
   "cell_type": "markdown",
   "id": "e4232c17-8bfb-4be0-93a4-5125da87fbef",
   "metadata": {},
   "source": [
    "**Remove `null` values from data**"
   ]
  },
  {
   "cell_type": "code",
   "execution_count": 21,
   "id": "b211ce01-8665-473d-b7eb-eb862db6979b",
   "metadata": {},
   "outputs": [],
   "source": [
    "data = data.dropna()"
   ]
  },
  {
   "cell_type": "markdown",
   "id": "cfa471b4-b426-4c80-ae55-2331d610908d",
   "metadata": {},
   "source": [
    "Remove `null` values"
   ]
  },
  {
   "cell_type": "code",
   "execution_count": 22,
   "id": "696f630a-f322-4ae1-8775-da42b0fe2625",
   "metadata": {},
   "outputs": [
    {
     "data": {
      "text/plain": [
       "Unnamed: 0                            0\n",
       "Codigo                                0\n",
       "Descrição       -       31/07/2022    0\n",
       "UM                                    0\n",
       "Import?                               0\n",
       "Feb-22                                0\n",
       "Mar-22                                0\n",
       "Apr-22                                0\n",
       "May-22                                0\n",
       "Jun-22                                0\n",
       "Jul-22                                0\n",
       "Total                                 0\n",
       "Saldo                                 0\n",
       "Freq.                                 0\n",
       "Media                                 0\n",
       "Tempo                                 0\n",
       "FOB                                   0\n",
       "Venda                                 0\n",
       "Ativo                                 0\n",
       "Entrada Prevista                      0\n",
       "dtype: int64"
      ]
     },
     "execution_count": 22,
     "metadata": {},
     "output_type": "execute_result"
    }
   ],
   "source": [
    "data.isna().sum()"
   ]
  },
  {
   "cell_type": "markdown",
   "id": "0173b46a-8c58-4389-a705-89a3ca1f64a8",
   "metadata": {},
   "source": [
    "All `null` values have been removed"
   ]
  },
  {
   "cell_type": "markdown",
   "id": "47f83ced-8a3e-46d6-9841-d728458c1c35",
   "metadata": {},
   "source": [
    "## Cleaning Data"
   ]
  },
  {
   "cell_type": "markdown",
   "id": "58f9ea99-3664-412c-a618-657aecde3e72",
   "metadata": {},
   "source": [
    "**Check if there are any `inactive` items**"
   ]
  },
  {
   "cell_type": "code",
   "execution_count": 29,
   "id": "3d8691a4-94a1-4b5c-9332-deec6b59c779",
   "metadata": {},
   "outputs": [
    {
     "data": {
      "text/plain": [
       "array(['S', 'N'], dtype=object)"
      ]
     },
     "execution_count": 29,
     "metadata": {},
     "output_type": "execute_result"
    }
   ],
   "source": [
    "data['Ativo'].unique()"
   ]
  },
  {
   "cell_type": "markdown",
   "id": "de270eec-d1a5-4f42-81be-9619917b1292",
   "metadata": {},
   "source": [
    "**Remove`inactive` items (Ativo = N)**"
   ]
  },
  {
   "cell_type": "code",
   "execution_count": 30,
   "id": "78b204c8-ef2d-44cb-b57c-dac29a7a0096",
   "metadata": {},
   "outputs": [],
   "source": [
    "data = data[data['Ativo'].str.contains('N') == False]"
   ]
  },
  {
   "cell_type": "code",
   "execution_count": 31,
   "id": "65165925-2c90-4157-b18e-7a23df5e7199",
   "metadata": {},
   "outputs": [
    {
     "data": {
      "text/plain": [
       "array(['S'], dtype=object)"
      ]
     },
     "execution_count": 31,
     "metadata": {},
     "output_type": "execute_result"
    }
   ],
   "source": [
    "data['Ativo'].unique()"
   ]
  },
  {
   "cell_type": "markdown",
   "id": "224a48f3-1619-4f3f-b70f-a170e44a3139",
   "metadata": {},
   "source": [
    "Successfully removed the `inactive` items from the data"
   ]
  },
  {
   "cell_type": "code",
   "execution_count": null,
   "id": "f7510469-e793-4a29-b1b3-182ecbe848bd",
   "metadata": {},
   "outputs": [],
   "source": []
  }
 ],
 "metadata": {
  "kernelspec": {
   "display_name": "Python 3 (ipykernel)",
   "language": "python",
   "name": "python3"
  },
  "language_info": {
   "codemirror_mode": {
    "name": "ipython",
    "version": 3
   },
   "file_extension": ".py",
   "mimetype": "text/x-python",
   "name": "python",
   "nbconvert_exporter": "python",
   "pygments_lexer": "ipython3",
   "version": "3.10.4"
  }
 },
 "nbformat": 4,
 "nbformat_minor": 5
}
